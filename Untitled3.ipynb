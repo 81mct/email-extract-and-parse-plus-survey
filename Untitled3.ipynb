{
 "cells": [
  {
   "cell_type": "code",
   "execution_count": 5,
   "id": "238651c5-1b97-4994-af31-1fed804d3ff8",
   "metadata": {},
   "outputs": [],
   "source": [
    "import pandas as pd\n",
    "\n",
    "# Load the two Excel files\n",
    "df_main = pd.read_excel(\"C:\\\\Users\\\\lorio\\\\OneDrive\\\\Documents\\\\Zensights\\\\Email Project\\\\May, June, July Email Event Listing.xlsx\")\n",
    "df_survey = pd.read_excel(\"C:\\\\Users\\\\lorio\\\\OneDrive\\\\Documents\\\\Zensights\\\\Email Project\\\\Survey Completion by Member.xlsx\")\n",
    "\n",
    "# Rename columns for consistency\n",
    "df_survey.rename(columns={'Member Name': 'Full Name', 'Survey': 'Survey Name', 'Completed': 'Survey Completion Date'}, inplace=True)\n",
    "\n",
    "# Merge based on Full Name\n",
    "df_merged = pd.merge(df_main, df_survey[['Full Name', 'Survey Name', 'Survey Completion Date']], on='Full Name', how='left')\n",
    "\n",
    "# Filter only for 'Clicked' events\n",
    "df_filtered = df_merged[df_merged['Event'] == 'Clicked']\n",
    "\n",
    "# Convert the 'Date' and 'Survey Completion Date' columns to datetime, if they aren't already\n",
    "df_filtered.loc[:, 'Date'] = pd.to_datetime(df_filtered['Date'])\n",
    "df_filtered.loc[:, 'Survey Completion Date'] = pd.to_datetime(df_filtered['Survey Completion Date'])\n",
    "\n",
    "# Keep rows where 'Survey Completion Date' is on or after the 'Date' column\n",
    "df_final = df_filtered[df_filtered['Survey Completion Date'] >= df_filtered['Date']]\n",
    "\n",
    "# Save the resulting DataFrame to a new Excel file\n",
    "df_final.to_excel(\"C:\\\\Users\\\\lorio\\\\OneDrive\\\\Documents\\\\Zensights\\\\Email Project\\\\Updated_May_June_July_Email_Event_Listing.xlsx\", index=False)\n"
   ]
  },
  {
   "cell_type": "code",
   "execution_count": null,
   "id": "b3dec65c-a9db-44d8-81a0-3ddc2968b68a",
   "metadata": {},
   "outputs": [],
   "source": []
  }
 ],
 "metadata": {
  "kernelspec": {
   "display_name": "Python 3 (ipykernel)",
   "language": "python",
   "name": "python3"
  },
  "language_info": {
   "codemirror_mode": {
    "name": "ipython",
    "version": 3
   },
   "file_extension": ".py",
   "mimetype": "text/x-python",
   "name": "python",
   "nbconvert_exporter": "python",
   "pygments_lexer": "ipython3",
   "version": "3.11.4"
  }
 },
 "nbformat": 4,
 "nbformat_minor": 5
}
